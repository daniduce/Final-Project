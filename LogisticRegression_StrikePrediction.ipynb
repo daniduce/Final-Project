{
 "cells": [
  {
   "cell_type": "code",
   "execution_count": 75,
   "metadata": {},
   "outputs": [],
   "source": [
    "import numpy as np # linear algebra\n",
    "import pandas as pd # data processing, CSV file I/O (e.g. pd.read_csv), data manipulation as in SQL\n",
    "import matplotlib.pyplot as plt # this is used for the plot the graph\n",
    "import seaborn as sns # used for plot interactive graph. I like it most for plot\n",
    "from sklearn.linear_model import LogisticRegression # to apply the Logistic regression\n",
    "from sklearn.model_selection import train_test_split # to split the data into two parts\n",
    "from sklearn import metrics # for the check the error and accuracy of the model\n",
    "import datetime as date\n"
   ]
  },
  {
   "cell_type": "code",
   "execution_count": null,
   "metadata": {},
   "outputs": [],
   "source": []
  },
  {
   "cell_type": "code",
   "execution_count": 63,
   "metadata": {},
   "outputs": [],
   "source": [
    "df = pd.read_csv('na_storms_summary.csv')"
   ]
  },
  {
   "cell_type": "code",
   "execution_count": 64,
   "metadata": {},
   "outputs": [
    {
     "data": {
      "text/html": [
       "<div>\n",
       "<style scoped>\n",
       "    .dataframe tbody tr th:only-of-type {\n",
       "        vertical-align: middle;\n",
       "    }\n",
       "\n",
       "    .dataframe tbody tr th {\n",
       "        vertical-align: top;\n",
       "    }\n",
       "\n",
       "    .dataframe thead th {\n",
       "        text-align: right;\n",
       "    }\n",
       "</style>\n",
       "<table border=\"1\" class=\"dataframe\">\n",
       "  <thead>\n",
       "    <tr style=\"text-align: right;\">\n",
       "      <th></th>\n",
       "      <th>Unnamed: 0</th>\n",
       "      <th>NUMBER</th>\n",
       "      <th>NAME</th>\n",
       "      <th>SEASON_Year</th>\n",
       "      <th>ISO_TIME</th>\n",
       "      <th>NATURE</th>\n",
       "      <th>LAT</th>\n",
       "      <th>LON</th>\n",
       "      <th>WMO_WIND_KTS</th>\n",
       "      <th>WMO_PRES</th>\n",
       "      <th>STORM_SPEED_KTS</th>\n",
       "      <th>STORM_DIR_degrees</th>\n",
       "      <th>geohash</th>\n",
       "      <th>geohash2</th>\n",
       "      <th>Strike_Target</th>\n",
       "    </tr>\n",
       "  </thead>\n",
       "  <tbody>\n",
       "    <tr>\n",
       "      <th>0</th>\n",
       "      <td>0</td>\n",
       "      <td>20</td>\n",
       "      <td>ALBERTO</td>\n",
       "      <td>2012</td>\n",
       "      <td>5/19/2012 0:00</td>\n",
       "      <td>DS</td>\n",
       "      <td>33.1</td>\n",
       "      <td>-77.0</td>\n",
       "      <td>25</td>\n",
       "      <td>1010</td>\n",
       "      <td>3</td>\n",
       "      <td>196</td>\n",
       "      <td>dmchr</td>\n",
       "      <td>dm</td>\n",
       "      <td>1</td>\n",
       "    </tr>\n",
       "    <tr>\n",
       "      <th>1</th>\n",
       "      <td>1</td>\n",
       "      <td>2</td>\n",
       "      <td>ALEX</td>\n",
       "      <td>2016</td>\n",
       "      <td>1/10/2016 0:00</td>\n",
       "      <td>ET</td>\n",
       "      <td>34.4</td>\n",
       "      <td>-54.2</td>\n",
       "      <td>65</td>\n",
       "      <td>981</td>\n",
       "      <td>16</td>\n",
       "      <td>119</td>\n",
       "      <td>dy17w</td>\n",
       "      <td>dy</td>\n",
       "      <td>0</td>\n",
       "    </tr>\n",
       "    <tr>\n",
       "      <th>2</th>\n",
       "      <td>2</td>\n",
       "      <td>47</td>\n",
       "      <td>ALICIA</td>\n",
       "      <td>1983</td>\n",
       "      <td>8/15/1983 12:00</td>\n",
       "      <td>TS</td>\n",
       "      <td>27.3</td>\n",
       "      <td>-90.5</td>\n",
       "      <td>30</td>\n",
       "      <td>1009</td>\n",
       "      <td>5</td>\n",
       "      <td>258</td>\n",
       "      <td>9uzek</td>\n",
       "      <td>9u</td>\n",
       "      <td>0</td>\n",
       "    </tr>\n",
       "    <tr>\n",
       "      <th>3</th>\n",
       "      <td>3</td>\n",
       "      <td>57</td>\n",
       "      <td>ALLEN</td>\n",
       "      <td>1980</td>\n",
       "      <td>7/31/1980 12:00</td>\n",
       "      <td>NR</td>\n",
       "      <td>11.0</td>\n",
       "      <td>-30.0</td>\n",
       "      <td>25</td>\n",
       "      <td></td>\n",
       "      <td>22</td>\n",
       "      <td>267</td>\n",
       "      <td>e3fwt</td>\n",
       "      <td>e3</td>\n",
       "      <td>0</td>\n",
       "    </tr>\n",
       "    <tr>\n",
       "      <th>4</th>\n",
       "      <td>4</td>\n",
       "      <td>27</td>\n",
       "      <td>ALLISON</td>\n",
       "      <td>1995</td>\n",
       "      <td>6/10/1995 0:00</td>\n",
       "      <td>ET</td>\n",
       "      <td>57.0</td>\n",
       "      <td>-52.0</td>\n",
       "      <td>40</td>\n",
       "      <td>997</td>\n",
       "      <td>36</td>\n",
       "      <td>360</td>\n",
       "      <td>ff5h2</td>\n",
       "      <td>ff</td>\n",
       "      <td>1</td>\n",
       "    </tr>\n",
       "  </tbody>\n",
       "</table>\n",
       "</div>"
      ],
      "text/plain": [
       "   Unnamed: 0  NUMBER     NAME  SEASON_Year         ISO_TIME NATURE   LAT  \\\n",
       "0           0      20  ALBERTO         2012   5/19/2012 0:00     DS  33.1   \n",
       "1           1       2     ALEX         2016   1/10/2016 0:00     ET  34.4   \n",
       "2           2      47   ALICIA         1983  8/15/1983 12:00     TS  27.3   \n",
       "3           3      57    ALLEN         1980  7/31/1980 12:00     NR  11.0   \n",
       "4           4      27  ALLISON         1995   6/10/1995 0:00     ET  57.0   \n",
       "\n",
       "    LON WMO_WIND_KTS WMO_PRES  STORM_SPEED_KTS  STORM_DIR_degrees geohash  \\\n",
       "0 -77.0           25     1010                3                196   dmchr   \n",
       "1 -54.2           65      981               16                119   dy17w   \n",
       "2 -90.5           30     1009                5                258   9uzek   \n",
       "3 -30.0           25                        22                267   e3fwt   \n",
       "4 -52.0           40      997               36                360   ff5h2   \n",
       "\n",
       "  geohash2  Strike_Target  \n",
       "0       dm              1  \n",
       "1       dy              0  \n",
       "2       9u              0  \n",
       "3       e3              0  \n",
       "4       ff              1  "
      ]
     },
     "execution_count": 64,
     "metadata": {},
     "output_type": "execute_result"
    }
   ],
   "source": [
    "df.head()"
   ]
  },
  {
   "cell_type": "code",
   "execution_count": 65,
   "metadata": {},
   "outputs": [
    {
     "name": "stdout",
     "output_type": "stream",
     "text": [
      "<class 'pandas.core.frame.DataFrame'>\n",
      "RangeIndex: 175 entries, 0 to 174\n",
      "Data columns (total 15 columns):\n",
      " #   Column             Non-Null Count  Dtype  \n",
      "---  ------             --------------  -----  \n",
      " 0   Unnamed: 0         175 non-null    int64  \n",
      " 1   NUMBER             175 non-null    int64  \n",
      " 2   NAME               175 non-null    object \n",
      " 3   SEASON_Year        175 non-null    int64  \n",
      " 4   ISO_TIME           175 non-null    object \n",
      " 5   NATURE             175 non-null    object \n",
      " 6   LAT                175 non-null    float64\n",
      " 7   LON                175 non-null    float64\n",
      " 8   WMO_WIND_KTS       175 non-null    object \n",
      " 9   WMO_PRES           175 non-null    object \n",
      " 10  STORM_SPEED_KTS    175 non-null    int64  \n",
      " 11  STORM_DIR_degrees  175 non-null    int64  \n",
      " 12  geohash            175 non-null    object \n",
      " 13  geohash2           175 non-null    object \n",
      " 14  Strike_Target      175 non-null    int64  \n",
      "dtypes: float64(2), int64(6), object(7)\n",
      "memory usage: 20.6+ KB\n"
     ]
    }
   ],
   "source": [
    "df.info()"
   ]
  },
  {
   "cell_type": "code",
   "execution_count": 90,
   "metadata": {},
   "outputs": [],
   "source": [
    "#convert date field \n",
    "df['ISO_TIME'] = pd.to_datetime(df['ISO_TIME'])\n",
    "\n",
    "df['dt'] = pd.to_datetime(df['ISO_TIME'])\n",
    "\n",
    "#df['WMO_WIND_KTS'] = df['WMO_WIND_KTS'].astype(float)\n",
    "\n",
    "#df['WMO_PRES'] = df['WMO_PRES'].astype(float)\n"
   ]
  },
  {
   "cell_type": "code",
   "execution_count": 91,
   "metadata": {},
   "outputs": [
    {
     "data": {
      "text/html": [
       "<div>\n",
       "<style scoped>\n",
       "    .dataframe tbody tr th:only-of-type {\n",
       "        vertical-align: middle;\n",
       "    }\n",
       "\n",
       "    .dataframe tbody tr th {\n",
       "        vertical-align: top;\n",
       "    }\n",
       "\n",
       "    .dataframe thead th {\n",
       "        text-align: right;\n",
       "    }\n",
       "</style>\n",
       "<table border=\"1\" class=\"dataframe\">\n",
       "  <thead>\n",
       "    <tr style=\"text-align: right;\">\n",
       "      <th></th>\n",
       "      <th>Unnamed: 0</th>\n",
       "      <th>NUMBER</th>\n",
       "      <th>SEASON_Year</th>\n",
       "      <th>LAT</th>\n",
       "      <th>LON</th>\n",
       "      <th>STORM_SPEED_KTS</th>\n",
       "      <th>STORM_DIR_degrees</th>\n",
       "      <th>Strike_Target</th>\n",
       "    </tr>\n",
       "  </thead>\n",
       "  <tbody>\n",
       "    <tr>\n",
       "      <th>Unnamed: 0</th>\n",
       "      <td>1.000000</td>\n",
       "      <td>0.547221</td>\n",
       "      <td>0.121084</td>\n",
       "      <td>-0.109308</td>\n",
       "      <td>0.211694</td>\n",
       "      <td>-0.074950</td>\n",
       "      <td>0.045278</td>\n",
       "      <td>-0.266121</td>\n",
       "    </tr>\n",
       "    <tr>\n",
       "      <th>NUMBER</th>\n",
       "      <td>0.547221</td>\n",
       "      <td>1.000000</td>\n",
       "      <td>-0.364481</td>\n",
       "      <td>-0.084223</td>\n",
       "      <td>0.118729</td>\n",
       "      <td>-0.094359</td>\n",
       "      <td>0.105633</td>\n",
       "      <td>-0.101390</td>\n",
       "    </tr>\n",
       "    <tr>\n",
       "      <th>SEASON_Year</th>\n",
       "      <td>0.121084</td>\n",
       "      <td>-0.364481</td>\n",
       "      <td>1.000000</td>\n",
       "      <td>-0.050428</td>\n",
       "      <td>0.013614</td>\n",
       "      <td>-0.030074</td>\n",
       "      <td>-0.128027</td>\n",
       "      <td>-0.135087</td>\n",
       "    </tr>\n",
       "    <tr>\n",
       "      <th>LAT</th>\n",
       "      <td>-0.109308</td>\n",
       "      <td>-0.084223</td>\n",
       "      <td>-0.050428</td>\n",
       "      <td>1.000000</td>\n",
       "      <td>-0.026097</td>\n",
       "      <td>0.146116</td>\n",
       "      <td>-0.448486</td>\n",
       "      <td>0.201346</td>\n",
       "    </tr>\n",
       "    <tr>\n",
       "      <th>LON</th>\n",
       "      <td>0.211694</td>\n",
       "      <td>0.118729</td>\n",
       "      <td>0.013614</td>\n",
       "      <td>-0.026097</td>\n",
       "      <td>1.000000</td>\n",
       "      <td>0.232623</td>\n",
       "      <td>0.179654</td>\n",
       "      <td>-0.130874</td>\n",
       "    </tr>\n",
       "    <tr>\n",
       "      <th>STORM_SPEED_KTS</th>\n",
       "      <td>-0.074950</td>\n",
       "      <td>-0.094359</td>\n",
       "      <td>-0.030074</td>\n",
       "      <td>0.146116</td>\n",
       "      <td>0.232623</td>\n",
       "      <td>1.000000</td>\n",
       "      <td>0.058908</td>\n",
       "      <td>-0.035381</td>\n",
       "    </tr>\n",
       "    <tr>\n",
       "      <th>STORM_DIR_degrees</th>\n",
       "      <td>0.045278</td>\n",
       "      <td>0.105633</td>\n",
       "      <td>-0.128027</td>\n",
       "      <td>-0.448486</td>\n",
       "      <td>0.179654</td>\n",
       "      <td>0.058908</td>\n",
       "      <td>1.000000</td>\n",
       "      <td>-0.034286</td>\n",
       "    </tr>\n",
       "    <tr>\n",
       "      <th>Strike_Target</th>\n",
       "      <td>-0.266121</td>\n",
       "      <td>-0.101390</td>\n",
       "      <td>-0.135087</td>\n",
       "      <td>0.201346</td>\n",
       "      <td>-0.130874</td>\n",
       "      <td>-0.035381</td>\n",
       "      <td>-0.034286</td>\n",
       "      <td>1.000000</td>\n",
       "    </tr>\n",
       "  </tbody>\n",
       "</table>\n",
       "</div>"
      ],
      "text/plain": [
       "                   Unnamed: 0    NUMBER  SEASON_Year       LAT       LON  \\\n",
       "Unnamed: 0           1.000000  0.547221     0.121084 -0.109308  0.211694   \n",
       "NUMBER               0.547221  1.000000    -0.364481 -0.084223  0.118729   \n",
       "SEASON_Year          0.121084 -0.364481     1.000000 -0.050428  0.013614   \n",
       "LAT                 -0.109308 -0.084223    -0.050428  1.000000 -0.026097   \n",
       "LON                  0.211694  0.118729     0.013614 -0.026097  1.000000   \n",
       "STORM_SPEED_KTS     -0.074950 -0.094359    -0.030074  0.146116  0.232623   \n",
       "STORM_DIR_degrees    0.045278  0.105633    -0.128027 -0.448486  0.179654   \n",
       "Strike_Target       -0.266121 -0.101390    -0.135087  0.201346 -0.130874   \n",
       "\n",
       "                   STORM_SPEED_KTS  STORM_DIR_degrees  Strike_Target  \n",
       "Unnamed: 0               -0.074950           0.045278      -0.266121  \n",
       "NUMBER                   -0.094359           0.105633      -0.101390  \n",
       "SEASON_Year              -0.030074          -0.128027      -0.135087  \n",
       "LAT                       0.146116          -0.448486       0.201346  \n",
       "LON                       0.232623           0.179654      -0.130874  \n",
       "STORM_SPEED_KTS           1.000000           0.058908      -0.035381  \n",
       "STORM_DIR_degrees         0.058908           1.000000      -0.034286  \n",
       "Strike_Target            -0.035381          -0.034286       1.000000  "
      ]
     },
     "execution_count": 91,
     "metadata": {},
     "output_type": "execute_result"
    }
   ],
   "source": [
    "df.corr() # .corr is used for find corelation"
   ]
  },
  {
   "cell_type": "code",
   "execution_count": 92,
   "metadata": {},
   "outputs": [],
   "source": [
    "df['ISO_TIME']=df['ISO_TIME'].map(date.datetime.toordinal)"
   ]
  },
  {
   "cell_type": "code",
   "execution_count": 93,
   "metadata": {},
   "outputs": [],
   "source": [
    "##x= df[['SEASON_Year', 'ISO_TIME','NATURE', 'LAT','LON','WMO_WIND_KTS', 'WMO_PRES', 'STORM_SPEED_KTS','STORM_DIR_degrees', 'geohash', 'geohash2'  ]]\n",
    "\n",
    "x= df[['SEASON_Year',  'LAT','LON',\n",
    "           'STORM_SPEED_KTS','ISO_TIME','STORM_DIR_degrees'  ]]\n",
    "y= df['Strike_Target']"
   ]
  },
  {
   "cell_type": "code",
   "execution_count": 94,
   "metadata": {},
   "outputs": [
    {
     "name": "stdout",
     "output_type": "stream",
     "text": [
      "<class 'pandas.core.frame.DataFrame'>\n",
      "RangeIndex: 175 entries, 0 to 174\n",
      "Data columns (total 6 columns):\n",
      " #   Column             Non-Null Count  Dtype  \n",
      "---  ------             --------------  -----  \n",
      " 0   SEASON_Year        175 non-null    int64  \n",
      " 1   LAT                175 non-null    float64\n",
      " 2   LON                175 non-null    float64\n",
      " 3   STORM_SPEED_KTS    175 non-null    int64  \n",
      " 4   ISO_TIME           175 non-null    int64  \n",
      " 5   STORM_DIR_degrees  175 non-null    int64  \n",
      "dtypes: float64(2), int64(4)\n",
      "memory usage: 8.3 KB\n"
     ]
    }
   ],
   "source": [
    "df.isnull().sum()\n",
    "x.info()"
   ]
  },
  {
   "cell_type": "code",
   "execution_count": 95,
   "metadata": {},
   "outputs": [],
   "source": [
    "#Split data into train and test dataset\n",
    "X_train,X_test,y_train,y_test = train_test_split(x,y,test_size=0.25,random_state=0)"
   ]
  },
  {
   "cell_type": "code",
   "execution_count": 96,
   "metadata": {},
   "outputs": [],
   "source": [
    "#Create a scalar - to ensure that values are compared on same scale\n",
    "from sklearn.preprocessing import StandardScaler\n",
    "\n",
    "sc = StandardScaler()\n",
    "\n",
    "# fit and transform data\n",
    "X_train =sc.fit_transform(X_train)\n",
    "X_test = sc.transform(X_test)"
   ]
  },
  {
   "cell_type": "code",
   "execution_count": 97,
   "metadata": {},
   "outputs": [
    {
     "data": {
      "text/plain": [
       "LogisticRegression()"
      ]
     },
     "execution_count": 97,
     "metadata": {},
     "output_type": "execute_result"
    }
   ],
   "source": [
    "# create and configure model\n",
    "LogReg = LogisticRegression(solver='lbfgs')\n",
    "LogReg = LogisticRegression()\n",
    "LogReg.fit(X_train, y_train)"
   ]
  },
  {
   "cell_type": "code",
   "execution_count": 98,
   "metadata": {},
   "outputs": [
    {
     "name": "stdout",
     "output_type": "stream",
     "text": [
      "0.7045454545454546\n"
     ]
    }
   ],
   "source": [
    "logistic = LogisticRegression()\n",
    "logistic.fit(X_train,y_train)\n",
    "temp=logistic.predict(X_test)\n",
    "print(metrics.accuracy_score(temp,y_test)) "
   ]
  },
  {
   "cell_type": "markdown",
   "metadata": {},
   "source": [
    "We have an accuracy score of 70percent"
   ]
  },
  {
   "cell_type": "code",
   "execution_count": 100,
   "metadata": {},
   "outputs": [
    {
     "data": {
      "text/plain": [
       "array([0, 0, 0, 0, 0, 0, 0, 0, 0, 0, 0, 0, 0, 0, 0, 0, 0, 0, 0, 0, 1, 0,\n",
       "       0, 0, 0, 0, 0, 0, 0, 0, 0, 0, 0, 0, 0, 0, 0, 0, 0, 0, 0, 0, 0, 0])"
      ]
     },
     "execution_count": 100,
     "metadata": {},
     "output_type": "execute_result"
    }
   ],
   "source": [
    "y_pred = LogReg.predict(X_test)\n",
    "y_pred"
   ]
  },
  {
   "cell_type": "code",
   "execution_count": 101,
   "metadata": {},
   "outputs": [
    {
     "name": "stdout",
     "output_type": "stream",
     "text": [
      "70.45454545454545\n"
     ]
    }
   ],
   "source": [
    "print(metrics.accuracy_score(y_test, y_pred)*100)     # prints the accuracy\n"
   ]
  },
  {
   "cell_type": "code",
   "execution_count": 102,
   "metadata": {},
   "outputs": [
    {
     "data": {
      "text/plain": [
       "array([[31,  1],\n",
       "       [12,  0]])"
      ]
     },
     "execution_count": 102,
     "metadata": {},
     "output_type": "execute_result"
    }
   ],
   "source": [
    "# Using COnfusion matrix to view predictions and test data\n",
    "from sklearn.metrics import confusion_matrix\n",
    "cm = confusion_matrix(y_test, y_pred)\n",
    "cm"
   ]
  },
  {
   "cell_type": "code",
   "execution_count": 103,
   "metadata": {},
   "outputs": [
    {
     "name": "stdout",
     "output_type": "stream",
     "text": [
      "              precision    recall  f1-score   support\n",
      "\n",
      "           0       0.72      0.97      0.83        32\n",
      "           1       0.00      0.00      0.00        12\n",
      "\n",
      "    accuracy                           0.70        44\n",
      "   macro avg       0.36      0.48      0.41        44\n",
      "weighted avg       0.52      0.70      0.60        44\n",
      "\n"
     ]
    }
   ],
   "source": [
    "from sklearn.metrics import classification_report\n",
    "\n",
    "print(classification_report(y_test, y_pred))"
   ]
  },
  {
   "cell_type": "code",
   "execution_count": null,
   "metadata": {},
   "outputs": [],
   "source": []
  }
 ],
 "metadata": {
  "kernelspec": {
   "display_name": "Python 3",
   "language": "python",
   "name": "python3"
  },
  "language_info": {
   "codemirror_mode": {
    "name": "ipython",
    "version": 3
   },
   "file_extension": ".py",
   "mimetype": "text/x-python",
   "name": "python",
   "nbconvert_exporter": "python",
   "pygments_lexer": "ipython3",
   "version": "3.6.8"
  }
 },
 "nbformat": 4,
 "nbformat_minor": 4
}
