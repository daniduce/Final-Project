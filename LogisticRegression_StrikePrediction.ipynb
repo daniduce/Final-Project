{
 "cells": [
  {
   "cell_type": "code",
   "execution_count": 75,
   "metadata": {},
   "outputs": [],
   "source": [
    "import numpy as np # linear algebra\n",
    "import pandas as pd # data processing, CSV file I/O (e.g. pd.read_csv), data manipulation as in SQL\n",
    "import matplotlib.pyplot as plt # this is used for the plot the graph\n",
    "import seaborn as sns # used for plot interactive graph. I like it most for plot\n",
    "from sklearn.linear_model import LogisticRegression # to apply the Logistic regression\n",
    "from sklearn.model_selection import train_test_split # to split the data into two parts\n",
    "from sklearn import metrics # for the check the error and accuracy of the model\n",
    "import datetime as date"
   ]
  },
  {
   "cell_type": "code",
   "execution_count": 63,
   "metadata": {},
   "outputs": [],
   "source": [
    "df = pd.read_csv('na_storms_summary.csv')"
   ]
  },
  {
   "cell_type": "code",
   "execution_count": 64,
   "metadata": {},
   "outputs": [
    {
     "data": {
      "text/html": [
       "<div>\n",
       "<style scoped>\n",
       "    .dataframe tbody tr th:only-of-type {\n",
       "        vertical-align: middle;\n",
       "    }\n",
       "\n",
       "    .dataframe tbody tr th {\n",
       "        vertical-align: top;\n",
       "    }\n",
       "\n",
       "    .dataframe thead th {\n",
       "        text-align: right;\n",
       "    }\n",
       "</style>\n",
       "<table border=\"1\" class=\"dataframe\">\n",
       "  <thead>\n",
       "    <tr style=\"text-align: right;\">\n",
       "      <th></th>\n",
       "      <th>Unnamed: 0</th>\n",
       "      <th>NUMBER</th>\n",
       "      <th>NAME</th>\n",
       "      <th>SEASON_Year</th>\n",
       "      <th>ISO_TIME</th>\n",
       "      <th>NATURE</th>\n",
       "      <th>LAT</th>\n",
       "      <th>LON</th>\n",
       "      <th>WMO_WIND_KTS</th>\n",
       "      <th>WMO_PRES</th>\n",
       "      <th>STORM_SPEED_KTS</th>\n",
       "      <th>STORM_DIR_degrees</th>\n",
       "      <th>geohash</th>\n",
       "      <th>geohash2</th>\n",
       "      <th>Strike_Target</th>\n",
       "    </tr>\n",
       "  </thead>\n",
       "  <tbody>\n",
       "    <tr>\n",
       "      <th>0</th>\n",
       "      <td>0</td>\n",
       "      <td>20</td>\n",
       "      <td>ALBERTO</td>\n",
       "      <td>2012</td>\n",
       "      <td>5/19/2012 0:00</td>\n",
       "      <td>DS</td>\n",
       "      <td>33.1</td>\n",
       "      <td>-77.0</td>\n",
       "      <td>25</td>\n",
       "      <td>1010</td>\n",
       "      <td>3</td>\n",
       "      <td>196</td>\n",
       "      <td>dmchr</td>\n",
       "      <td>dm</td>\n",
       "      <td>1</td>\n",
       "    </tr>\n",
       "    <tr>\n",
       "      <th>1</th>\n",
       "      <td>1</td>\n",
       "      <td>2</td>\n",
       "      <td>ALEX</td>\n",
       "      <td>2016</td>\n",
       "      <td>1/10/2016 0:00</td>\n",
       "      <td>ET</td>\n",
       "      <td>34.4</td>\n",
       "      <td>-54.2</td>\n",
       "      <td>65</td>\n",
       "      <td>981</td>\n",
       "      <td>16</td>\n",
       "      <td>119</td>\n",
       "      <td>dy17w</td>\n",
       "      <td>dy</td>\n",
       "      <td>0</td>\n",
       "    </tr>\n",
       "    <tr>\n",
       "      <th>2</th>\n",
       "      <td>2</td>\n",
       "      <td>47</td>\n",
       "      <td>ALICIA</td>\n",
       "      <td>1983</td>\n",
       "      <td>8/15/1983 12:00</td>\n",
       "      <td>TS</td>\n",
       "      <td>27.3</td>\n",
       "      <td>-90.5</td>\n",
       "      <td>30</td>\n",
       "      <td>1009</td>\n",
       "      <td>5</td>\n",
       "      <td>258</td>\n",
       "      <td>9uzek</td>\n",
       "      <td>9u</td>\n",
       "      <td>0</td>\n",
       "    </tr>\n",
       "    <tr>\n",
       "      <th>3</th>\n",
       "      <td>3</td>\n",
       "      <td>57</td>\n",
       "      <td>ALLEN</td>\n",
       "      <td>1980</td>\n",
       "      <td>7/31/1980 12:00</td>\n",
       "      <td>NR</td>\n",
       "      <td>11.0</td>\n",
       "      <td>-30.0</td>\n",
       "      <td>25</td>\n",
       "      <td></td>\n",
       "      <td>22</td>\n",
       "      <td>267</td>\n",
       "      <td>e3fwt</td>\n",
       "      <td>e3</td>\n",
       "      <td>0</td>\n",
       "    </tr>\n",
       "    <tr>\n",
       "      <th>4</th>\n",
       "      <td>4</td>\n",
       "      <td>27</td>\n",
       "      <td>ALLISON</td>\n",
       "      <td>1995</td>\n",
       "      <td>6/10/1995 0:00</td>\n",
       "      <td>ET</td>\n",
       "      <td>57.0</td>\n",
       "      <td>-52.0</td>\n",
       "      <td>40</td>\n",
       "      <td>997</td>\n",
       "      <td>36</td>\n",
       "      <td>360</td>\n",
       "      <td>ff5h2</td>\n",
       "      <td>ff</td>\n",
       "      <td>1</td>\n",
       "    </tr>\n",
       "  </tbody>\n",
       "</table>\n",
       "</div>"
      ],
      "text/plain": [
       "   Unnamed: 0  NUMBER     NAME  SEASON_Year         ISO_TIME NATURE   LAT  \\\n",
       "0           0      20  ALBERTO         2012   5/19/2012 0:00     DS  33.1   \n",
       "1           1       2     ALEX         2016   1/10/2016 0:00     ET  34.4   \n",
       "2           2      47   ALICIA         1983  8/15/1983 12:00     TS  27.3   \n",
       "3           3      57    ALLEN         1980  7/31/1980 12:00     NR  11.0   \n",
       "4           4      27  ALLISON         1995   6/10/1995 0:00     ET  57.0   \n",
       "\n",
       "    LON WMO_WIND_KTS WMO_PRES  STORM_SPEED_KTS  STORM_DIR_degrees geohash  \\\n",
       "0 -77.0           25     1010                3                196   dmchr   \n",
       "1 -54.2           65      981               16                119   dy17w   \n",
       "2 -90.5           30     1009                5                258   9uzek   \n",
       "3 -30.0           25                        22                267   e3fwt   \n",
       "4 -52.0           40      997               36                360   ff5h2   \n",
       "\n",
       "  geohash2  Strike_Target  \n",
       "0       dm              1  \n",
       "1       dy              0  \n",
       "2       9u              0  \n",
       "3       e3              0  \n",
       "4       ff              1  "
      ]
     },
     "execution_count": 64,
     "metadata": {},
     "output_type": "execute_result"
    }
   ],
   "source": [
    "df.head()"
   ]
  },
  {
   "cell_type": "code",
   "execution_count": 65,
   "metadata": {},
   "outputs": [
    {
     "name": "stdout",
     "output_type": "stream",
     "text": [
      "<class 'pandas.core.frame.DataFrame'>\n",
      "RangeIndex: 175 entries, 0 to 174\n",
      "Data columns (total 15 columns):\n",
      " #   Column             Non-Null Count  Dtype  \n",
      "---  ------             --------------  -----  \n",
      " 0   Unnamed: 0         175 non-null    int64  \n",
      " 1   NUMBER             175 non-null    int64  \n",
      " 2   NAME               175 non-null    object \n",
      " 3   SEASON_Year        175 non-null    int64  \n",
      " 4   ISO_TIME           175 non-null    object \n",
      " 5   NATURE             175 non-null    object \n",
      " 6   LAT                175 non-null    float64\n",
      " 7   LON                175 non-null    float64\n",
      " 8   WMO_WIND_KTS       175 non-null    object \n",
      " 9   WMO_PRES           175 non-null    object \n",
      " 10  STORM_SPEED_KTS    175 non-null    int64  \n",
      " 11  STORM_DIR_degrees  175 non-null    int64  \n",
      " 12  geohash            175 non-null    object \n",
      " 13  geohash2           175 non-null    object \n",
      " 14  Strike_Target      175 non-null    int64  \n",
      "dtypes: float64(2), int64(6), object(7)\n",
      "memory usage: 20.6+ KB\n"
     ]
    }
   ],
   "source": [
    "df.info()"
   ]
  },
  {
   "cell_type": "code",
   "execution_count": 90,
   "metadata": {},
   "outputs": [],
   "source": [
    "#convert date field \n",
    "df['ISO_TIME'] = pd.to_datetime(df['ISO_TIME'])\n",
    "\n",
    "df['dt'] = pd.to_datetime(df['ISO_TIME'])\n",
    "\n",
    "#df['WMO_WIND_KTS'] = df['WMO_WIND_KTS'].astype(float)\n",
    "\n",
    "#df['WMO_PRES'] = df['WMO_PRES'].astype(float)\n"
   ]
  },
  {
   "cell_type": "code",
   "execution_count": 114,
   "metadata": {},
   "outputs": [
    {
     "ename": "TypeError",
     "evalue": "descriptor 'toordinal' requires a 'datetime.date' object but received a 'int'",
     "output_type": "error",
     "traceback": [
      "\u001b[0;31m---------------------------------------------------------------------------\u001b[0m",
      "\u001b[0;31mTypeError\u001b[0m                                 Traceback (most recent call last)",
      "\u001b[0;32m<ipython-input-114-3a9c9272005b>\u001b[0m in \u001b[0;36m<module>\u001b[0;34m\u001b[0m\n\u001b[0;32m----> 1\u001b[0;31m \u001b[0mdf\u001b[0m\u001b[0;34m[\u001b[0m\u001b[0;34m'ISO_TIME'\u001b[0m\u001b[0;34m]\u001b[0m\u001b[0;34m=\u001b[0m\u001b[0mdf\u001b[0m\u001b[0;34m[\u001b[0m\u001b[0;34m'ISO_TIME'\u001b[0m\u001b[0;34m]\u001b[0m\u001b[0;34m.\u001b[0m\u001b[0mmap\u001b[0m\u001b[0;34m(\u001b[0m\u001b[0mdate\u001b[0m\u001b[0;34m.\u001b[0m\u001b[0mdatetime\u001b[0m\u001b[0;34m.\u001b[0m\u001b[0mtoordinal\u001b[0m\u001b[0;34m)\u001b[0m\u001b[0;34m\u001b[0m\u001b[0;34m\u001b[0m\u001b[0m\n\u001b[0m",
      "\u001b[0;32m/anaconda3/lib/python3.6/site-packages/pandas/core/series.py\u001b[0m in \u001b[0;36mmap\u001b[0;34m(self, arg, na_action)\u001b[0m\n\u001b[1;32m   3628\u001b[0m         \u001b[0mdtype\u001b[0m\u001b[0;34m:\u001b[0m \u001b[0mobject\u001b[0m\u001b[0;34m\u001b[0m\u001b[0;34m\u001b[0m\u001b[0m\n\u001b[1;32m   3629\u001b[0m         \"\"\"\n\u001b[0;32m-> 3630\u001b[0;31m         \u001b[0mnew_values\u001b[0m \u001b[0;34m=\u001b[0m \u001b[0msuper\u001b[0m\u001b[0;34m(\u001b[0m\u001b[0;34m)\u001b[0m\u001b[0;34m.\u001b[0m\u001b[0m_map_values\u001b[0m\u001b[0;34m(\u001b[0m\u001b[0marg\u001b[0m\u001b[0;34m,\u001b[0m \u001b[0mna_action\u001b[0m\u001b[0;34m=\u001b[0m\u001b[0mna_action\u001b[0m\u001b[0;34m)\u001b[0m\u001b[0;34m\u001b[0m\u001b[0;34m\u001b[0m\u001b[0m\n\u001b[0m\u001b[1;32m   3631\u001b[0m         \u001b[0;32mreturn\u001b[0m \u001b[0mself\u001b[0m\u001b[0;34m.\u001b[0m\u001b[0m_constructor\u001b[0m\u001b[0;34m(\u001b[0m\u001b[0mnew_values\u001b[0m\u001b[0;34m,\u001b[0m \u001b[0mindex\u001b[0m\u001b[0;34m=\u001b[0m\u001b[0mself\u001b[0m\u001b[0;34m.\u001b[0m\u001b[0mindex\u001b[0m\u001b[0;34m)\u001b[0m\u001b[0;34m.\u001b[0m\u001b[0m__finalize__\u001b[0m\u001b[0;34m(\u001b[0m\u001b[0mself\u001b[0m\u001b[0;34m)\u001b[0m\u001b[0;34m\u001b[0m\u001b[0;34m\u001b[0m\u001b[0m\n\u001b[1;32m   3632\u001b[0m \u001b[0;34m\u001b[0m\u001b[0m\n",
      "\u001b[0;32m/anaconda3/lib/python3.6/site-packages/pandas/core/base.py\u001b[0m in \u001b[0;36m_map_values\u001b[0;34m(self, mapper, na_action)\u001b[0m\n\u001b[1;32m   1143\u001b[0m \u001b[0;34m\u001b[0m\u001b[0m\n\u001b[1;32m   1144\u001b[0m         \u001b[0;31m# mapper is a function\u001b[0m\u001b[0;34m\u001b[0m\u001b[0;34m\u001b[0m\u001b[0;34m\u001b[0m\u001b[0m\n\u001b[0;32m-> 1145\u001b[0;31m         \u001b[0mnew_values\u001b[0m \u001b[0;34m=\u001b[0m \u001b[0mmap_f\u001b[0m\u001b[0;34m(\u001b[0m\u001b[0mvalues\u001b[0m\u001b[0;34m,\u001b[0m \u001b[0mmapper\u001b[0m\u001b[0;34m)\u001b[0m\u001b[0;34m\u001b[0m\u001b[0;34m\u001b[0m\u001b[0m\n\u001b[0m\u001b[1;32m   1146\u001b[0m \u001b[0;34m\u001b[0m\u001b[0m\n\u001b[1;32m   1147\u001b[0m         \u001b[0;32mreturn\u001b[0m \u001b[0mnew_values\u001b[0m\u001b[0;34m\u001b[0m\u001b[0;34m\u001b[0m\u001b[0m\n",
      "\u001b[0;32mpandas/_libs/lib.pyx\u001b[0m in \u001b[0;36mpandas._libs.lib.map_infer\u001b[0;34m()\u001b[0m\n",
      "\u001b[0;31mTypeError\u001b[0m: descriptor 'toordinal' requires a 'datetime.date' object but received a 'int'"
     ]
    }
   ],
   "source": [
    "df['ISO_TIME']=df['ISO_TIME'].map(date.datetime.toordinal)"
   ]
  },
  {
   "cell_type": "code",
   "execution_count": 115,
   "metadata": {},
   "outputs": [
    {
     "data": {
      "image/png": "[encoded data removed]",
      "text/plain": [
       "<Figure size 432x288 with 1 Axes>"
      ]
     },
     "metadata": {
      "needs_background": "light"
     },
     "output_type": "display_data"
    },
    {
     "data": {
      "text/plain": [
       "<Figure size 432x288 with 0 Axes>"
      ]
     },
     "metadata": {},
     "output_type": "display_data"
    }
   ],
   "source": [
    "#Check the occurence of Strike vs non-strike \n",
    "sns.countplot(x='Strike_Target', data=df, palette='hls')\n",
    "plt.show()\n",
    "plt.savefig('count_plot')"
   ]
  },
  {
   "cell_type": "code",
   "execution_count": 116,
   "metadata": {},
   "outputs": [
    {
     "data": {
      "text/html": [
       "<div>\n",
       "<style scoped>\n",
       "    .dataframe tbody tr th:only-of-type {\n",
       "        vertical-align: middle;\n",
       "    }\n",
       "\n",
       "    .dataframe tbody tr th {\n",
       "        vertical-align: top;\n",
       "    }\n",
       "\n",
       "    .dataframe thead th {\n",
       "        text-align: right;\n",
       "    }\n",
       "</style>\n",
       "<table border=\"1\" class=\"dataframe\">\n",
       "  <thead>\n",
       "    <tr style=\"text-align: right;\">\n",
       "      <th></th>\n",
       "      <th>Unnamed: 0</th>\n",
       "      <th>NUMBER</th>\n",
       "      <th>SEASON_Year</th>\n",
       "      <th>ISO_TIME</th>\n",
       "      <th>LAT</th>\n",
       "      <th>LON</th>\n",
       "      <th>STORM_SPEED_KTS</th>\n",
       "      <th>STORM_DIR_degrees</th>\n",
       "      <th>Strike_Target</th>\n",
       "    </tr>\n",
       "  </thead>\n",
       "  <tbody>\n",
       "    <tr>\n",
       "      <th>Unnamed: 0</th>\n",
       "      <td>1.000000</td>\n",
       "      <td>0.547221</td>\n",
       "      <td>0.121084</td>\n",
       "      <td>NaN</td>\n",
       "      <td>-0.109308</td>\n",
       "      <td>0.211694</td>\n",
       "      <td>-0.074950</td>\n",
       "      <td>0.045278</td>\n",
       "      <td>-0.266121</td>\n",
       "    </tr>\n",
       "    <tr>\n",
       "      <th>NUMBER</th>\n",
       "      <td>0.547221</td>\n",
       "      <td>1.000000</td>\n",
       "      <td>-0.364481</td>\n",
       "      <td>NaN</td>\n",
       "      <td>-0.084223</td>\n",
       "      <td>0.118729</td>\n",
       "      <td>-0.094359</td>\n",
       "      <td>0.105633</td>\n",
       "      <td>-0.101390</td>\n",
       "    </tr>\n",
       "    <tr>\n",
       "      <th>SEASON_Year</th>\n",
       "      <td>0.121084</td>\n",
       "      <td>-0.364481</td>\n",
       "      <td>1.000000</td>\n",
       "      <td>NaN</td>\n",
       "      <td>-0.050428</td>\n",
       "      <td>0.013614</td>\n",
       "      <td>-0.030074</td>\n",
       "      <td>-0.128027</td>\n",
       "      <td>-0.135087</td>\n",
       "    </tr>\n",
       "    <tr>\n",
       "      <th>ISO_TIME</th>\n",
       "      <td>NaN</td>\n",
       "      <td>NaN</td>\n",
       "      <td>NaN</td>\n",
       "      <td>NaN</td>\n",
       "      <td>NaN</td>\n",
       "      <td>NaN</td>\n",
       "      <td>NaN</td>\n",
       "      <td>NaN</td>\n",
       "      <td>NaN</td>\n",
       "    </tr>\n",
       "    <tr>\n",
       "      <th>LAT</th>\n",
       "      <td>-0.109308</td>\n",
       "      <td>-0.084223</td>\n",
       "      <td>-0.050428</td>\n",
       "      <td>NaN</td>\n",
       "      <td>1.000000</td>\n",
       "      <td>-0.026097</td>\n",
       "      <td>0.146116</td>\n",
       "      <td>-0.448486</td>\n",
       "      <td>0.201346</td>\n",
       "    </tr>\n",
       "    <tr>\n",
       "      <th>LON</th>\n",
       "      <td>0.211694</td>\n",
       "      <td>0.118729</td>\n",
       "      <td>0.013614</td>\n",
       "      <td>NaN</td>\n",
       "      <td>-0.026097</td>\n",
       "      <td>1.000000</td>\n",
       "      <td>0.232623</td>\n",
       "      <td>0.179654</td>\n",
       "      <td>-0.130874</td>\n",
       "    </tr>\n",
       "    <tr>\n",
       "      <th>STORM_SPEED_KTS</th>\n",
       "      <td>-0.074950</td>\n",
       "      <td>-0.094359</td>\n",
       "      <td>-0.030074</td>\n",
       "      <td>NaN</td>\n",
       "      <td>0.146116</td>\n",
       "      <td>0.232623</td>\n",
       "      <td>1.000000</td>\n",
       "      <td>0.058908</td>\n",
       "      <td>-0.035381</td>\n",
       "    </tr>\n",
       "    <tr>\n",
       "      <th>STORM_DIR_degrees</th>\n",
       "      <td>0.045278</td>\n",
       "      <td>0.105633</td>\n",
       "      <td>-0.128027</td>\n",
       "      <td>NaN</td>\n",
       "      <td>-0.448486</td>\n",
       "      <td>0.179654</td>\n",
       "      <td>0.058908</td>\n",
       "      <td>1.000000</td>\n",
       "      <td>-0.034286</td>\n",
       "    </tr>\n",
       "    <tr>\n",
       "      <th>Strike_Target</th>\n",
       "      <td>-0.266121</td>\n",
       "      <td>-0.101390</td>\n",
       "      <td>-0.135087</td>\n",
       "      <td>NaN</td>\n",
       "      <td>0.201346</td>\n",
       "      <td>-0.130874</td>\n",
       "      <td>-0.035381</td>\n",
       "      <td>-0.034286</td>\n",
       "      <td>1.000000</td>\n",
       "    </tr>\n",
       "  </tbody>\n",
       "</table>\n",
       "</div>"
      ],
      "text/plain": [
       "                   Unnamed: 0    NUMBER  SEASON_Year  ISO_TIME       LAT  \\\n",
       "Unnamed: 0           1.000000  0.547221     0.121084       NaN -0.109308   \n",
       "NUMBER               0.547221  1.000000    -0.364481       NaN -0.084223   \n",
       "SEASON_Year          0.121084 -0.364481     1.000000       NaN -0.050428   \n",
       "ISO_TIME                  NaN       NaN          NaN       NaN       NaN   \n",
       "LAT                 -0.109308 -0.084223    -0.050428       NaN  1.000000   \n",
       "LON                  0.211694  0.118729     0.013614       NaN -0.026097   \n",
       "STORM_SPEED_KTS     -0.074950 -0.094359    -0.030074       NaN  0.146116   \n",
       "STORM_DIR_degrees    0.045278  0.105633    -0.128027       NaN -0.448486   \n",
       "Strike_Target       -0.266121 -0.101390    -0.135087       NaN  0.201346   \n",
       "\n",
       "                        LON  STORM_SPEED_KTS  STORM_DIR_degrees  Strike_Target  \n",
       "Unnamed: 0         0.211694        -0.074950           0.045278      -0.266121  \n",
       "NUMBER             0.118729        -0.094359           0.105633      -0.101390  \n",
       "SEASON_Year        0.013614        -0.030074          -0.128027      -0.135087  \n",
       "ISO_TIME                NaN              NaN                NaN            NaN  \n",
       "LAT               -0.026097         0.146116          -0.448486       0.201346  \n",
       "LON                1.000000         0.232623           0.179654      -0.130874  \n",
       "STORM_SPEED_KTS    0.232623         1.000000           0.058908      -0.035381  \n",
       "STORM_DIR_degrees  0.179654         0.058908           1.000000      -0.034286  \n",
       "Strike_Target     -0.130874        -0.035381          -0.034286       1.000000  "
      ]
     },
     "execution_count": 116,
     "metadata": {},
     "output_type": "execute_result"
    }
   ],
   "source": [
    "df.corr() # .corr is used for find corelation"
   ]
  },
  {
   "cell_type": "code",
   "execution_count": 113,
   "metadata": {},
   "outputs": [
    {
     "data": {
      "text/plain": [
       "<matplotlib.axes._subplots.AxesSubplot at 0x1a37e34208>"
      ]
     },
     "execution_count": 113,
     "metadata": {},
     "output_type": "execute_result"
    },
    {
     "data": {
      "image/png": "[encoded data removed]",
      "text/plain": [
       "<Figure size 864x648 with 2 Axes>"
      ]
     },
     "metadata": {
      "needs_background": "light"
     },
     "output_type": "display_data"
    }
   ],
   "source": [
    "#plot correlations using a heat map. Heat maps are great wat to visualize correlations using color coding\n",
    "import matplotlib.pyplot as plt\n",
    "import seaborn as sns\n",
    "corr=df.corr()\n",
    "top_features=corr.index\n",
    "plt.figure(figsize=(12,9))\n",
    "sns.heatmap(df[top_features].corr(),annot=True,cmap='RdBu')"
   ]
  },
  {
   "cell_type": "code",
   "execution_count": 92,
   "metadata": {},
   "outputs": [],
   "source": []
  },
  {
   "cell_type": "code",
   "execution_count": 93,
   "metadata": {},
   "outputs": [],
   "source": [
    "##x= df[['SEASON_Year', 'ISO_TIME','NATURE', 'LAT','LON','WMO_WIND_KTS', 'WMO_PRES', 'STORM_SPEED_KTS','STORM_DIR_degrees', 'geohash', 'geohash2'  ]]\n",
    "\n",
    "x= df[['SEASON_Year',  'LAT','LON',\n",
    "           'STORM_SPEED_KTS','ISO_TIME','STORM_DIR_degrees'  ]]\n",
    "y= df['Strike_Target']"
   ]
  },
  {
   "cell_type": "code",
   "execution_count": 94,
   "metadata": {},
   "outputs": [
    {
     "name": "stdout",
     "output_type": "stream",
     "text": [
      "<class 'pandas.core.frame.DataFrame'>\n",
      "RangeIndex: 175 entries, 0 to 174\n",
      "Data columns (total 6 columns):\n",
      " #   Column             Non-Null Count  Dtype  \n",
      "---  ------             --------------  -----  \n",
      " 0   SEASON_Year        175 non-null    int64  \n",
      " 1   LAT                175 non-null    float64\n",
      " 2   LON                175 non-null    float64\n",
      " 3   STORM_SPEED_KTS    175 non-null    int64  \n",
      " 4   ISO_TIME           175 non-null    int64  \n",
      " 5   STORM_DIR_degrees  175 non-null    int64  \n",
      "dtypes: float64(2), int64(4)\n",
      "memory usage: 8.3 KB\n"
     ]
    }
   ],
   "source": [
    "df.isnull().sum()\n",
    "x.info()"
   ]
  },
  {
   "cell_type": "code",
   "execution_count": 95,
   "metadata": {},
   "outputs": [],
   "source": [
    "#Split data into train and test dataset\n",
    "X_train,X_test,y_train,y_test = train_test_split(x,y,test_size=0.25,random_state=0)"
   ]
  },
  {
   "cell_type": "code",
   "execution_count": 96,
   "metadata": {},
   "outputs": [],
   "source": [
    "#Create a scalar - to ensure that values are compared on same scale\n",
    "from sklearn.preprocessing import StandardScaler\n",
    "\n",
    "sc = StandardScaler()\n",
    "\n",
    "# fit and transform data\n",
    "X_train =sc.fit_transform(X_train)\n",
    "X_test = sc.transform(X_test)"
   ]
  },
  {
   "cell_type": "code",
   "execution_count": 97,
   "metadata": {},
   "outputs": [
    {
     "data": {
      "text/plain": [
       "LogisticRegression()"
      ]
     },
     "execution_count": 97,
     "metadata": {},
     "output_type": "execute_result"
    }
   ],
   "source": [
    "# create and configure model\n",
    "LogReg = LogisticRegression(solver='lbfgs')\n",
    "LogReg = LogisticRegression()\n",
    "LogReg.fit(X_train, y_train)"
   ]
  },
  {
   "cell_type": "code",
   "execution_count": 98,
   "metadata": {},
   "outputs": [
    {
     "name": "stdout",
     "output_type": "stream",
     "text": [
      "0.7045454545454546\n"
     ]
    }
   ],
   "source": [
    "logistic = LogisticRegression()\n",
    "logistic.fit(X_train,y_train)\n",
    "temp=logistic.predict(X_test)\n",
    "print(metrics.accuracy_score(temp,y_test)) "
   ]
  },
  {
   "cell_type": "markdown",
   "metadata": {},
   "source": [
    "We have an accuracy score of 70percent"
   ]
  },
  {
   "cell_type": "code",
   "execution_count": 100,
   "metadata": {},
   "outputs": [
    {
     "data": {
      "text/plain": [
       "array([0, 0, 0, 0, 0, 0, 0, 0, 0, 0, 0, 0, 0, 0, 0, 0, 0, 0, 0, 0, 1, 0,\n",
       "       0, 0, 0, 0, 0, 0, 0, 0, 0, 0, 0, 0, 0, 0, 0, 0, 0, 0, 0, 0, 0, 0])"
      ]
     },
     "execution_count": 100,
     "metadata": {},
     "output_type": "execute_result"
    }
   ],
   "source": [
    "y_pred = LogReg.predict(X_test)\n",
    "y_pred"
   ]
  },
  {
   "cell_type": "code",
   "execution_count": 101,
   "metadata": {},
   "outputs": [
    {
     "name": "stdout",
     "output_type": "stream",
     "text": [
      "70.45454545454545\n"
     ]
    }
   ],
   "source": [
    "print(metrics.accuracy_score(y_test, y_pred)*100)     # prints the accuracy\n"
   ]
  },
  {
   "cell_type": "code",
   "execution_count": 102,
   "metadata": {},
   "outputs": [
    {
     "data": {
      "text/plain": [
       "array([[31,  1],\n",
       "       [12,  0]])"
      ]
     },
     "execution_count": 102,
     "metadata": {},
     "output_type": "execute_result"
    }
   ],
   "source": [
    "# Using COnfusion matrix to view predictions and test data\n",
    "from sklearn.metrics import confusion_matrix\n",
    "cm = confusion_matrix(y_test, y_pred)\n",
    "cm"
   ]
  },
  {
   "cell_type": "code",
   "execution_count": 103,
   "metadata": {},
   "outputs": [
    {
     "name": "stdout",
     "output_type": "stream",
     "text": [
      "              precision    recall  f1-score   support\n",
      "\n",
      "           0       0.72      0.97      0.83        32\n",
      "           1       0.00      0.00      0.00        12\n",
      "\n",
      "    accuracy                           0.70        44\n",
      "   macro avg       0.36      0.48      0.41        44\n",
      "weighted avg       0.52      0.70      0.60        44\n",
      "\n"
     ]
    }
   ],
   "source": [
    "from sklearn.metrics import classification_report\n",
    "\n",
    "print(classification_report(y_test, y_pred))"
   ]
  },
  {
   "cell_type": "code",
   "execution_count": 106,
   "metadata": {},
   "outputs": [],
   "source": [
    "Full_predict = LogReg.predict(x)"
   ]
  },
  {
   "cell_type": "code",
   "execution_count": 107,
   "metadata": {},
   "outputs": [],
   "source": [
    "full_predict_prob = LogReg.predict_proba(X_test)"
   ]
  },
  {
   "cell_type": "code",
   "execution_count": 108,
   "metadata": {},
   "outputs": [
    {
     "name": "stdout",
     "output_type": "stream",
     "text": [
      "[[0.85058974 0.14941026]\n",
      " [0.87693946 0.12306054]\n",
      " [0.68174969 0.31825031]\n",
      " [0.94490518 0.05509482]\n",
      " [0.68734488 0.31265512]\n",
      " [0.74102634 0.25897366]\n",
      " [0.72336825 0.27663175]\n",
      " [0.76267619 0.23732381]\n",
      " [0.70679743 0.29320257]\n",
      " [0.9162886  0.0837114 ]\n",
      " [0.8537521  0.1462479 ]\n",
      " [0.68508852 0.31491148]\n",
      " [0.53213797 0.46786203]\n",
      " [0.77051107 0.22948893]\n",
      " [0.7914988  0.2085012 ]\n",
      " [0.74886597 0.25113403]\n",
      " [0.69550242 0.30449758]\n",
      " [0.70448709 0.29551291]\n",
      " [0.63747669 0.36252331]\n",
      " [0.80351379 0.19648621]\n",
      " [0.45416308 0.54583692]\n",
      " [0.92512156 0.07487844]\n",
      " [0.50977179 0.49022821]\n",
      " [0.86876838 0.13123162]\n",
      " [0.89319791 0.10680209]\n",
      " [0.86804191 0.13195809]\n",
      " [0.90337819 0.09662181]\n",
      " [0.70276399 0.29723601]\n",
      " [0.71899018 0.28100982]\n",
      " [0.89780654 0.10219346]\n",
      " [0.86325871 0.13674129]\n",
      " [0.88601656 0.11398344]\n",
      " [0.83996123 0.16003877]\n",
      " [0.78225484 0.21774516]\n",
      " [0.64833084 0.35166916]\n",
      " [0.78673743 0.21326257]\n",
      " [0.68609717 0.31390283]\n",
      " [0.794301   0.205699  ]\n",
      " [0.91917834 0.08082166]\n",
      " [0.74763502 0.25236498]\n",
      " [0.76999962 0.23000038]\n",
      " [0.65543003 0.34456997]\n",
      " [0.70518684 0.29481316]\n",
      " [0.75035867 0.24964133]]\n"
     ]
    }
   ],
   "source": [
    "print (full_predict_prob)"
   ]
  },
  {
   "cell_type": "code",
   "execution_count": 109,
   "metadata": {},
   "outputs": [],
   "source": [
    "full_pred_prob = LogReg.predict_proba(X_test)[:, 1]"
   ]
  },
  {
   "cell_type": "code",
   "execution_count": 110,
   "metadata": {},
   "outputs": [],
   "source": [
    "thresh = 0.6"
   ]
  },
  {
   "cell_type": "code",
   "execution_count": 111,
   "metadata": {},
   "outputs": [],
   "source": [
    "thresh_6 = full_pred_prob >= thresh"
   ]
  },
  {
   "cell_type": "code",
   "execution_count": 112,
   "metadata": {},
   "outputs": [
    {
     "data": {
      "text/html": [
       "<div>\n",
       "<style scoped>\n",
       "    .dataframe tbody tr th:only-of-type {\n",
       "        vertical-align: middle;\n",
       "    }\n",
       "\n",
       "    .dataframe tbody tr th {\n",
       "        vertical-align: top;\n",
       "    }\n",
       "\n",
       "    .dataframe thead th {\n",
       "        text-align: right;\n",
       "    }\n",
       "</style>\n",
       "<table border=\"1\" class=\"dataframe\">\n",
       "  <thead>\n",
       "    <tr style=\"text-align: right;\">\n",
       "      <th></th>\n",
       "      <th>0</th>\n",
       "    </tr>\n",
       "  </thead>\n",
       "  <tbody>\n",
       "    <tr>\n",
       "      <th>0</th>\n",
       "      <td>False</td>\n",
       "    </tr>\n",
       "    <tr>\n",
       "      <th>1</th>\n",
       "      <td>False</td>\n",
       "    </tr>\n",
       "    <tr>\n",
       "      <th>2</th>\n",
       "      <td>False</td>\n",
       "    </tr>\n",
       "    <tr>\n",
       "      <th>3</th>\n",
       "      <td>False</td>\n",
       "    </tr>\n",
       "    <tr>\n",
       "      <th>4</th>\n",
       "      <td>False</td>\n",
       "    </tr>\n",
       "    <tr>\n",
       "      <th>5</th>\n",
       "      <td>False</td>\n",
       "    </tr>\n",
       "    <tr>\n",
       "      <th>6</th>\n",
       "      <td>False</td>\n",
       "    </tr>\n",
       "    <tr>\n",
       "      <th>7</th>\n",
       "      <td>False</td>\n",
       "    </tr>\n",
       "    <tr>\n",
       "      <th>8</th>\n",
       "      <td>False</td>\n",
       "    </tr>\n",
       "    <tr>\n",
       "      <th>9</th>\n",
       "      <td>False</td>\n",
       "    </tr>\n",
       "    <tr>\n",
       "      <th>10</th>\n",
       "      <td>False</td>\n",
       "    </tr>\n",
       "    <tr>\n",
       "      <th>11</th>\n",
       "      <td>False</td>\n",
       "    </tr>\n",
       "    <tr>\n",
       "      <th>12</th>\n",
       "      <td>False</td>\n",
       "    </tr>\n",
       "    <tr>\n",
       "      <th>13</th>\n",
       "      <td>False</td>\n",
       "    </tr>\n",
       "    <tr>\n",
       "      <th>14</th>\n",
       "      <td>False</td>\n",
       "    </tr>\n",
       "    <tr>\n",
       "      <th>15</th>\n",
       "      <td>False</td>\n",
       "    </tr>\n",
       "    <tr>\n",
       "      <th>16</th>\n",
       "      <td>False</td>\n",
       "    </tr>\n",
       "    <tr>\n",
       "      <th>17</th>\n",
       "      <td>False</td>\n",
       "    </tr>\n",
       "    <tr>\n",
       "      <th>18</th>\n",
       "      <td>False</td>\n",
       "    </tr>\n",
       "    <tr>\n",
       "      <th>19</th>\n",
       "      <td>False</td>\n",
       "    </tr>\n",
       "    <tr>\n",
       "      <th>20</th>\n",
       "      <td>False</td>\n",
       "    </tr>\n",
       "    <tr>\n",
       "      <th>21</th>\n",
       "      <td>False</td>\n",
       "    </tr>\n",
       "    <tr>\n",
       "      <th>22</th>\n",
       "      <td>False</td>\n",
       "    </tr>\n",
       "    <tr>\n",
       "      <th>23</th>\n",
       "      <td>False</td>\n",
       "    </tr>\n",
       "    <tr>\n",
       "      <th>24</th>\n",
       "      <td>False</td>\n",
       "    </tr>\n",
       "    <tr>\n",
       "      <th>25</th>\n",
       "      <td>False</td>\n",
       "    </tr>\n",
       "    <tr>\n",
       "      <th>26</th>\n",
       "      <td>False</td>\n",
       "    </tr>\n",
       "    <tr>\n",
       "      <th>27</th>\n",
       "      <td>False</td>\n",
       "    </tr>\n",
       "    <tr>\n",
       "      <th>28</th>\n",
       "      <td>False</td>\n",
       "    </tr>\n",
       "    <tr>\n",
       "      <th>29</th>\n",
       "      <td>False</td>\n",
       "    </tr>\n",
       "    <tr>\n",
       "      <th>30</th>\n",
       "      <td>False</td>\n",
       "    </tr>\n",
       "    <tr>\n",
       "      <th>31</th>\n",
       "      <td>False</td>\n",
       "    </tr>\n",
       "    <tr>\n",
       "      <th>32</th>\n",
       "      <td>False</td>\n",
       "    </tr>\n",
       "    <tr>\n",
       "      <th>33</th>\n",
       "      <td>False</td>\n",
       "    </tr>\n",
       "    <tr>\n",
       "      <th>34</th>\n",
       "      <td>False</td>\n",
       "    </tr>\n",
       "    <tr>\n",
       "      <th>35</th>\n",
       "      <td>False</td>\n",
       "    </tr>\n",
       "    <tr>\n",
       "      <th>36</th>\n",
       "      <td>False</td>\n",
       "    </tr>\n",
       "    <tr>\n",
       "      <th>37</th>\n",
       "      <td>False</td>\n",
       "    </tr>\n",
       "    <tr>\n",
       "      <th>38</th>\n",
       "      <td>False</td>\n",
       "    </tr>\n",
       "    <tr>\n",
       "      <th>39</th>\n",
       "      <td>False</td>\n",
       "    </tr>\n",
       "    <tr>\n",
       "      <th>40</th>\n",
       "      <td>False</td>\n",
       "    </tr>\n",
       "    <tr>\n",
       "      <th>41</th>\n",
       "      <td>False</td>\n",
       "    </tr>\n",
       "    <tr>\n",
       "      <th>42</th>\n",
       "      <td>False</td>\n",
       "    </tr>\n",
       "    <tr>\n",
       "      <th>43</th>\n",
       "      <td>False</td>\n",
       "    </tr>\n",
       "  </tbody>\n",
       "</table>\n",
       "</div>"
      ],
      "text/plain": [
       "        0\n",
       "0   False\n",
       "1   False\n",
       "2   False\n",
       "3   False\n",
       "4   False\n",
       "5   False\n",
       "6   False\n",
       "7   False\n",
       "8   False\n",
       "9   False\n",
       "10  False\n",
       "11  False\n",
       "12  False\n",
       "13  False\n",
       "14  False\n",
       "15  False\n",
       "16  False\n",
       "17  False\n",
       "18  False\n",
       "19  False\n",
       "20  False\n",
       "21  False\n",
       "22  False\n",
       "23  False\n",
       "24  False\n",
       "25  False\n",
       "26  False\n",
       "27  False\n",
       "28  False\n",
       "29  False\n",
       "30  False\n",
       "31  False\n",
       "32  False\n",
       "33  False\n",
       "34  False\n",
       "35  False\n",
       "36  False\n",
       "37  False\n",
       "38  False\n",
       "39  False\n",
       "40  False\n",
       "41  False\n",
       "42  False\n",
       "43  False"
      ]
     },
     "execution_count": 112,
     "metadata": {},
     "output_type": "execute_result"
    }
   ],
   "source": [
    "pd.DataFrame(thresh_6)"
   ]
  },
  {
   "cell_type": "code",
   "execution_count": null,
   "metadata": {},
   "outputs": [],
   "source": []
  }
 ],
 "metadata": {
  "kernelspec": {
   "display_name": "Python 3",
   "language": "python",
   "name": "python3"
  },
  "language_info": {
   "codemirror_mode": {
    "name": "ipython",
    "version": 3
   },
   "file_extension": ".py",
   "mimetype": "text/x-python",
   "name": "python",
   "nbconvert_exporter": "python",
   "pygments_lexer": "ipython3",
   "version": "3.6.8"
  }
 },
 "nbformat": 4,
 "nbformat_minor": 4
}
