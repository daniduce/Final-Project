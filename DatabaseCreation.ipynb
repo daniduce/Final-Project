{
  "nbformat": 4,
  "nbformat_minor": 0,
  "metadata": {
    "colab": {
      "name": "Untitled8.ipynb",
      "provenance": []
    },
    "kernelspec": {
      "name": "python3",
      "display_name": "Python 3"
    }
  },
  "cells": [
    {
      "cell_type": "code",
      "metadata": {
        "colab": {
          "base_uri": "https://localhost:8080/"
        },
        "id": "iosFF03W4Wo2",
        "outputId": "dce1b9ef-c071-4a1c-d2f7-cafc02992cd6"
      },
      "source": [
        "import os\r\n",
        "# Find the latest version of spark 2.0  from http://www-us.apache.org/dist/spark/ and enter as the spark version\r\n",
        "# For example:\r\n",
        "# spark_version = 'spark-3.0.0'\r\n",
        "spark_version = 'spark-3.0.2'\r\n",
        "os.environ['SPARK_VERSION']=spark_version\r\n",
        "\r\n",
        "# Install Spark and Java\r\n",
        "!apt-get update\r\n",
        "!apt-get install openjdk-11-jdk-headless -qq > /dev/null\r\n",
        "!wget -q http://www-us.apache.org/dist/spark/$SPARK_VERSION/$SPARK_VERSION-bin-hadoop2.7.tgz\r\n",
        "!tar xf $SPARK_VERSION-bin-hadoop2.7.tgz\r\n",
        "!pip install -q findspark\r\n",
        "\r\n",
        "# Set Environment Variables\r\n",
        "import os\r\n",
        "os.environ[\"JAVA_HOME\"] = \"/usr/lib/jvm/java-11-openjdk-amd64\"\r\n",
        "os.environ[\"SPARK_HOME\"] = f\"/content/{spark_version}-bin-hadoop2.7\"\r\n",
        "\r\n",
        "# Start a SparkSession\r\n",
        "import findspark\r\n",
        "findspark.init()"
      ],
      "execution_count": 1,
      "outputs": [
        {
          "output_type": "stream",
          "text": [
            "\r0% [Working]\r            \rIgn:1 https://developer.download.nvidia.com/compute/cuda/repos/ubuntu1804/x86_64  InRelease\n",
            "Get:2 https://cloud.r-project.org/bin/linux/ubuntu bionic-cran40/ InRelease [3,626 B]\n",
            "Get:3 http://ppa.launchpad.net/c2d4u.team/c2d4u4.0+/ubuntu bionic InRelease [15.9 kB]\n",
            "Ign:4 https://developer.download.nvidia.com/compute/machine-learning/repos/ubuntu1804/x86_64  InRelease\n",
            "Hit:5 https://developer.download.nvidia.com/compute/cuda/repos/ubuntu1804/x86_64  Release\n",
            "Get:6 http://security.ubuntu.com/ubuntu bionic-security InRelease [88.7 kB]\n",
            "Hit:7 http://archive.ubuntu.com/ubuntu bionic InRelease\n",
            "Hit:8 https://developer.download.nvidia.com/compute/machine-learning/repos/ubuntu1804/x86_64  Release\n",
            "Get:9 http://archive.ubuntu.com/ubuntu bionic-updates InRelease [88.7 kB]\n",
            "Hit:10 http://ppa.launchpad.net/cran/libgit2/ubuntu bionic InRelease\n",
            "Get:11 http://archive.ubuntu.com/ubuntu bionic-backports InRelease [74.6 kB]\n",
            "Hit:12 http://ppa.launchpad.net/deadsnakes/ppa/ubuntu bionic InRelease\n",
            "Hit:14 http://ppa.launchpad.net/graphics-drivers/ppa/ubuntu bionic InRelease\n",
            "Get:16 http://ppa.launchpad.net/c2d4u.team/c2d4u4.0+/ubuntu bionic/main Sources [1,739 kB]\n",
            "Get:17 http://security.ubuntu.com/ubuntu bionic-security/main amd64 Packages [1,963 kB]\n",
            "Get:18 http://ppa.launchpad.net/c2d4u.team/c2d4u4.0+/ubuntu bionic/main amd64 Packages [889 kB]\n",
            "Get:19 http://security.ubuntu.com/ubuntu bionic-security/universe amd64 Packages [1,392 kB]\n",
            "Get:20 http://archive.ubuntu.com/ubuntu bionic-updates/main amd64 Packages [2,394 kB]\n",
            "Get:21 http://archive.ubuntu.com/ubuntu bionic-updates/universe amd64 Packages [2,163 kB]\n",
            "Fetched 10.8 MB in 4s (2,746 kB/s)\n",
            "Reading package lists... Done\n"
          ],
          "name": "stdout"
        }
      ]
    },
    {
      "cell_type": "code",
      "metadata": {
        "colab": {
          "base_uri": "https://localhost:8080/"
        },
        "id": "OHEbMnYv4jsd",
        "outputId": "37522cc1-7fd2-4843-cf6e-5770cbc57da3"
      },
      "source": [
        "# Download the Postgres driver that will allow Spark to interact with Postgres.\r\n",
        "!wget https://jdbc.postgresql.org/download/postgresql-42.2.16.jar"
      ],
      "execution_count": 2,
      "outputs": [
        {
          "output_type": "stream",
          "text": [
            "--2021-02-28 13:44:53--  https://jdbc.postgresql.org/download/postgresql-42.2.16.jar\n",
            "Resolving jdbc.postgresql.org (jdbc.postgresql.org)... 72.32.157.228, 2001:4800:3e1:1::228\n",
            "Connecting to jdbc.postgresql.org (jdbc.postgresql.org)|72.32.157.228|:443... connected.\n",
            "HTTP request sent, awaiting response... 200 OK\n",
            "Length: 1002883 (979K) [application/java-archive]\n",
            "Saving to: ‘postgresql-42.2.16.jar’\n",
            "\n",
            "postgresql-42.2.16. 100%[===================>] 979.38K  --.-KB/s    in 0.1s    \n",
            "\n",
            "2021-02-28 13:44:53 (6.51 MB/s) - ‘postgresql-42.2.16.jar’ saved [1002883/1002883]\n",
            "\n"
          ],
          "name": "stdout"
        }
      ]
    },
    {
      "cell_type": "code",
      "metadata": {
        "id": "pmuUkZ-64pD9"
      },
      "source": [
        "from pyspark.sql import SparkSession\r\n",
        "spark = SparkSession.builder.appName(\"Covid19\").config(\"spark.driver.extraClassPath\",\"/content/postgresql-42.2.16.jar\").getOrCreate()"
      ],
      "execution_count": 3,
      "outputs": []
    },
    {
      "cell_type": "code",
      "metadata": {
        "colab": {
          "base_uri": "https://localhost:8080/"
        },
        "id": "JF-5AY-e-U2g",
        "outputId": "949f4991-82ef-4a5c-a8ea-b42eb10de004"
      },
      "source": [
        "from pyspark import SparkFiles\r\n",
        "url = \"https://etlfinalproject.s3.amazonaws.com/published/PUBLIC/COVID-19-Activity/1614481307/COVID-19+Activity.csv\"\r\n",
        "spark.sparkContext.addFile(url)\r\n",
        "df = spark.read.option(\"charset\", \"utf-8\").csv(SparkFiles.get(\"\"), sep=\",\", header=True, inferSchema=True)\r\n",
        "\r\n",
        "df.show()"
      ],
      "execution_count": 36,
      "outputs": [
        {
          "output_type": "stream",
          "text": [
            "+---------------------------+-----------+-------------------+-----------+--------------+----------------+----------------------+------------------+--------------------+------------------+--------------------+-------------------------------+------------------+\n",
            "|PEOPLE_POSITIVE_CASES_COUNT|COUNTY_NAME|PROVINCE_STATE_NAME|REPORT_DATE|CONTINENT_NAME|DATA_SOURCE_NAME|PEOPLE_DEATH_NEW_COUNT|COUNTY_FIPS_NUMBER|COUNTRY_ALPHA_3_CODE|COUNTRY_SHORT_NAME|COUNTRY_ALPHA_2_CODE|PEOPLE_POSITIVE_NEW_CASES_COUNT|PEOPLE_DEATH_COUNT|\n",
            "+---------------------------+-----------+-------------------+-----------+--------------+----------------+----------------------+------------------+--------------------+------------------+--------------------+-------------------------------+------------------+\n",
            "|                          0|   Cherokee|            Alabama| 2020-01-21|       America|  New York Times|                     0|              1019|                 USA|     United States|                  US|                              0|                 0|\n",
            "|                          0|   Cherokee|            Alabama| 2020-01-22|       America|  New York Times|                     0|              1019|                 USA|     United States|                  US|                              0|                 0|\n",
            "|                          0|   Cherokee|            Alabama| 2020-01-23|       America|  New York Times|                     0|              1019|                 USA|     United States|                  US|                              0|                 0|\n",
            "|                          0|   Cherokee|            Alabama| 2020-01-24|       America|  New York Times|                     0|              1019|                 USA|     United States|                  US|                              0|                 0|\n",
            "|                          0|   Cherokee|            Alabama| 2020-01-25|       America|  New York Times|                     0|              1019|                 USA|     United States|                  US|                              0|                 0|\n",
            "|                          0|   Cherokee|            Alabama| 2020-01-26|       America|  New York Times|                     0|              1019|                 USA|     United States|                  US|                              0|                 0|\n",
            "|                          0|   Cherokee|            Alabama| 2020-01-27|       America|  New York Times|                     0|              1019|                 USA|     United States|                  US|                              0|                 0|\n",
            "|                          0|   Cherokee|            Alabama| 2020-01-28|       America|  New York Times|                     0|              1019|                 USA|     United States|                  US|                              0|                 0|\n",
            "|                          0|   Cherokee|            Alabama| 2020-01-29|       America|  New York Times|                     0|              1019|                 USA|     United States|                  US|                              0|                 0|\n",
            "|                          0|   Cherokee|            Alabama| 2020-01-30|       America|  New York Times|                     0|              1019|                 USA|     United States|                  US|                              0|                 0|\n",
            "|                          0|   Cherokee|            Alabama| 2020-01-31|       America|  New York Times|                     0|              1019|                 USA|     United States|                  US|                              0|                 0|\n",
            "|                          0|   Cherokee|            Alabama| 2020-02-01|       America|  New York Times|                     0|              1019|                 USA|     United States|                  US|                              0|                 0|\n",
            "|                          0|   Cherokee|            Alabama| 2020-02-02|       America|  New York Times|                     0|              1019|                 USA|     United States|                  US|                              0|                 0|\n",
            "|                          0|   Cherokee|            Alabama| 2020-02-03|       America|  New York Times|                     0|              1019|                 USA|     United States|                  US|                              0|                 0|\n",
            "|                          0|   Cherokee|            Alabama| 2020-02-04|       America|  New York Times|                     0|              1019|                 USA|     United States|                  US|                              0|                 0|\n",
            "|                          0|   Cherokee|            Alabama| 2020-02-05|       America|  New York Times|                     0|              1019|                 USA|     United States|                  US|                              0|                 0|\n",
            "|                          0|   Cherokee|            Alabama| 2020-02-06|       America|  New York Times|                     0|              1019|                 USA|     United States|                  US|                              0|                 0|\n",
            "|                          0|   Cherokee|            Alabama| 2020-02-07|       America|  New York Times|                     0|              1019|                 USA|     United States|                  US|                              0|                 0|\n",
            "|                          0|   Cherokee|            Alabama| 2020-02-08|       America|  New York Times|                     0|              1019|                 USA|     United States|                  US|                              0|                 0|\n",
            "|                          0|   Cherokee|            Alabama| 2020-02-09|       America|  New York Times|                     0|              1019|                 USA|     United States|                  US|                              0|                 0|\n",
            "+---------------------------+-----------+-------------------+-----------+--------------+----------------+----------------------+------------------+--------------------+------------------+--------------------+-------------------------------+------------------+\n",
            "only showing top 20 rows\n",
            "\n"
          ],
          "name": "stdout"
        }
      ]
    },
    {
      "cell_type": "code",
      "metadata": {
        "colab": {
          "base_uri": "https://localhost:8080/"
        },
        "id": "nAfvALVU5uJM",
        "outputId": "39ea8ac9-85f1-4bdb-e9b5-69dc0937a280"
      },
      "source": [
        "from pyspark.sql.functions import to_date\r\n",
        "# Read in the Review dataset as a DataFrame\r\n",
        "df.show(10)"
      ],
      "execution_count": 37,
      "outputs": [
        {
          "output_type": "stream",
          "text": [
            "+---------------------------+-----------+-------------------+-----------+--------------+----------------+----------------------+------------------+--------------------+------------------+--------------------+-------------------------------+------------------+\n",
            "|PEOPLE_POSITIVE_CASES_COUNT|COUNTY_NAME|PROVINCE_STATE_NAME|REPORT_DATE|CONTINENT_NAME|DATA_SOURCE_NAME|PEOPLE_DEATH_NEW_COUNT|COUNTY_FIPS_NUMBER|COUNTRY_ALPHA_3_CODE|COUNTRY_SHORT_NAME|COUNTRY_ALPHA_2_CODE|PEOPLE_POSITIVE_NEW_CASES_COUNT|PEOPLE_DEATH_COUNT|\n",
            "+---------------------------+-----------+-------------------+-----------+--------------+----------------+----------------------+------------------+--------------------+------------------+--------------------+-------------------------------+------------------+\n",
            "|                          0|   Cherokee|            Alabama| 2020-01-21|       America|  New York Times|                     0|              1019|                 USA|     United States|                  US|                              0|                 0|\n",
            "|                          0|   Cherokee|            Alabama| 2020-01-22|       America|  New York Times|                     0|              1019|                 USA|     United States|                  US|                              0|                 0|\n",
            "|                          0|   Cherokee|            Alabama| 2020-01-23|       America|  New York Times|                     0|              1019|                 USA|     United States|                  US|                              0|                 0|\n",
            "|                          0|   Cherokee|            Alabama| 2020-01-24|       America|  New York Times|                     0|              1019|                 USA|     United States|                  US|                              0|                 0|\n",
            "|                          0|   Cherokee|            Alabama| 2020-01-25|       America|  New York Times|                     0|              1019|                 USA|     United States|                  US|                              0|                 0|\n",
            "|                          0|   Cherokee|            Alabama| 2020-01-26|       America|  New York Times|                     0|              1019|                 USA|     United States|                  US|                              0|                 0|\n",
            "|                          0|   Cherokee|            Alabama| 2020-01-27|       America|  New York Times|                     0|              1019|                 USA|     United States|                  US|                              0|                 0|\n",
            "|                          0|   Cherokee|            Alabama| 2020-01-28|       America|  New York Times|                     0|              1019|                 USA|     United States|                  US|                              0|                 0|\n",
            "|                          0|   Cherokee|            Alabama| 2020-01-29|       America|  New York Times|                     0|              1019|                 USA|     United States|                  US|                              0|                 0|\n",
            "|                          0|   Cherokee|            Alabama| 2020-01-30|       America|  New York Times|                     0|              1019|                 USA|     United States|                  US|                              0|                 0|\n",
            "+---------------------------+-----------+-------------------+-----------+--------------+----------------+----------------------+------------------+--------------------+------------------+--------------------+-------------------------------+------------------+\n",
            "only showing top 10 rows\n",
            "\n"
          ],
          "name": "stdout"
        }
      ]
    },
    {
      "cell_type": "code",
      "metadata": {
        "colab": {
          "base_uri": "https://localhost:8080/"
        },
        "id": "tOUjwMqI56m5",
        "outputId": "e54a4645-8610-47b0-e5bf-2abc74c0be56"
      },
      "source": [
        "# Create the death count by continent\r\n",
        "people_death_df = df.groupby(\"CONTINENT_NAME\").agg({\"PEOPLE_DEATH_COUNT\":\"count\"}).withColumnRenamed(\"count(CONTINENT_NAME)\", \"PEOPLE_DEATH_COUNT\")\r\n",
        "people_death_df.show(10)"
      ],
      "execution_count": 83,
      "outputs": [
        {
          "output_type": "stream",
          "text": [
            "+--------------+-------------------------+\n",
            "|CONTINENT_NAME|count(PEOPLE_DEATH_COUNT)|\n",
            "+--------------+-------------------------+\n",
            "|        Europe|                    21359|\n",
            "|        Africa|                    22568|\n",
            "|          null|                     1209|\n",
            "|       Oceania|                     6851|\n",
            "|       America|                  1346020|\n",
            "|          Asia|                    30225|\n",
            "+--------------+-------------------------+\n",
            "\n"
          ],
          "name": "stdout"
        }
      ]
    },
    {
      "cell_type": "code",
      "metadata": {
        "colab": {
          "base_uri": "https://localhost:8080/"
        },
        "id": "8mZrWAwtEsbR",
        "outputId": "cb0ddbbb-4f45-4dc7-8a51-8e0cb5f94de5"
      },
      "source": [
        "# Create the continent_by_province_table DataFrame and drop duplicates. \r\n",
        "continent_by_province_df = df.select([\"CONTINENT_NAME\"]).drop_duplicates()\r\n",
        "continent_by_province_df.show(10)"
      ],
      "execution_count": 90,
      "outputs": [
        {
          "output_type": "stream",
          "text": [
            "+--------------+\n",
            "|CONTINENT_NAME|\n",
            "+--------------+\n",
            "|        Europe|\n",
            "|        Africa|\n",
            "|          null|\n",
            "|       Oceania|\n",
            "|       America|\n",
            "|          Asia|\n",
            "+--------------+\n",
            "\n"
          ],
          "name": "stdout"
        }
      ]
    },
    {
      "cell_type": "code",
      "metadata": {
        "colab": {
          "base_uri": "https://localhost:8080/"
        },
        "id": "u6vKFR7eMuXI",
        "outputId": "b77526e1-e472-44be-9eae-a090631d74a5"
      },
      "source": [
        "# Create the covid cases by continent DataFrame. \r\n",
        "# Convert the 'REPORT_DATE' column to a date datatype with to_date(\"REPORT_DATE\", 'yyyy-MM-dd').alias(\"REPORT_DATE\")\r\n",
        "date_cases_by_cont_df = df.select([\"CONTINENT_NAME\", \"COUNTRY_SHORT_NAME\", \"PROVINCE_STATE_NAME\", \"COUNTY_NAME\", to_date(\"REPORT_DATE\", 'yyyy-MM-dd').alias(\"REPORT_DATE\")])\r\n",
        "date_cases_by_cont_df.show(10)"
      ],
      "execution_count": 64,
      "outputs": [
        {
          "output_type": "stream",
          "text": [
            "+--------------+------------------+-------------------+-----------+-----------+\n",
            "|CONTINENT_NAME|COUNTRY_SHORT_NAME|PROVINCE_STATE_NAME|COUNTY_NAME|REPORT_DATE|\n",
            "+--------------+------------------+-------------------+-----------+-----------+\n",
            "|       America|     United States|            Alabama|   Cherokee| 2020-01-21|\n",
            "|       America|     United States|            Alabama|   Cherokee| 2020-01-22|\n",
            "|       America|     United States|            Alabama|   Cherokee| 2020-01-23|\n",
            "|       America|     United States|            Alabama|   Cherokee| 2020-01-24|\n",
            "|       America|     United States|            Alabama|   Cherokee| 2020-01-25|\n",
            "|       America|     United States|            Alabama|   Cherokee| 2020-01-26|\n",
            "|       America|     United States|            Alabama|   Cherokee| 2020-01-27|\n",
            "|       America|     United States|            Alabama|   Cherokee| 2020-01-28|\n",
            "|       America|     United States|            Alabama|   Cherokee| 2020-01-29|\n",
            "|       America|     United States|            Alabama|   Cherokee| 2020-01-30|\n",
            "+--------------+------------------+-------------------+-----------+-----------+\n",
            "only showing top 10 rows\n",
            "\n"
          ],
          "name": "stdout"
        }
      ]
    },
    {
      "cell_type": "code",
      "metadata": {
        "colab": {
          "base_uri": "https://localhost:8080/"
        },
        "id": "TkV_T3I-VgxA",
        "outputId": "e73a8dd3-abd7-42fe-84b1-6102524ed86b"
      },
      "source": [
        "# Create the Covid Continent table. DataFrame\r\n",
        "covid_continent_table_df = df.select([\"CONTINENT_NAME\", \"PEOPLE_POSITIVE_NEW_CASES_COUNT\", \"PEOPLE_POSITIVE_CASES_COUNT\", \"PEOPLE_DEATH_NEW_COUNT\", \"PEOPLE_DEATH_COUNT\"])\r\n",
        "covid_continent_table_df.show(10)"
      ],
      "execution_count": 65,
      "outputs": [
        {
          "output_type": "stream",
          "text": [
            "+--------------+-------------------------------+---------------------------+----------------------+------------------+\n",
            "|CONTINENT_NAME|PEOPLE_POSITIVE_NEW_CASES_COUNT|PEOPLE_POSITIVE_CASES_COUNT|PEOPLE_DEATH_NEW_COUNT|PEOPLE_DEATH_COUNT|\n",
            "+--------------+-------------------------------+---------------------------+----------------------+------------------+\n",
            "|       America|                              0|                          0|                     0|                 0|\n",
            "|       America|                              0|                          0|                     0|                 0|\n",
            "|       America|                              0|                          0|                     0|                 0|\n",
            "|       America|                              0|                          0|                     0|                 0|\n",
            "|       America|                              0|                          0|                     0|                 0|\n",
            "|       America|                              0|                          0|                     0|                 0|\n",
            "|       America|                              0|                          0|                     0|                 0|\n",
            "|       America|                              0|                          0|                     0|                 0|\n",
            "|       America|                              0|                          0|                     0|                 0|\n",
            "|       America|                              0|                          0|                     0|                 0|\n",
            "+--------------+-------------------------------+---------------------------+----------------------+------------------+\n",
            "only showing top 10 rows\n",
            "\n"
          ],
          "name": "stdout"
        }
      ]
    },
    {
      "cell_type": "code",
      "metadata": {
        "id": "hDGwbR5eYJPb"
      },
      "source": [
        "# Configure settings for RDS\r\n",
        "mode = \"append\"\r\n",
        "jdbc_url=\"jdbc:postgresql://final-project.czcueweyrsg8.us-west-2.rds.amazonaws.com:5432/Covid\"\r\n",
        "config = {\"user\":\"postgres\", \r\n",
        "          \"password\": \"finalproject\", \r\n",
        "          \"driver\":\"org.postgresql.Driver\"}"
      ],
      "execution_count": 77,
      "outputs": []
    },
    {
      "cell_type": "code",
      "metadata": {
        "id": "QId5j0knYbGV"
      },
      "source": [
        "\r\n",
        "# Write people_death_df to table in RDS\r\n",
        "people_death_df.write.jdbc(url=jdbc_url, table='people_death_table', mode=mode, properties=config)"
      ],
      "execution_count": 78,
      "outputs": []
    },
    {
      "cell_type": "code",
      "metadata": {
        "id": "HEe9WREzevCL"
      },
      "source": [
        "# Write continent_by_province_df to table in RDS\r\n",
        "continent_by_province_df.write.jdbc(url=jdbc_url, table='continent_table', mode=mode, properties=config)"
      ],
      "execution_count": 79,
      "outputs": []
    },
    {
      "cell_type": "code",
      "metadata": {
        "id": "LcNLZvAZYt4R"
      },
      "source": [
        "# Write date_cases_by_cont_df to table in RDS\r\n",
        "date_cases_by_cont_df.write.jdbc(url=jdbc_url, table='date_cases_table', mode=mode, properties=config)"
      ],
      "execution_count": 80,
      "outputs": []
    },
    {
      "cell_type": "code",
      "metadata": {
        "id": "3qHCBJwVfRMx"
      },
      "source": [
        "# Write covid_continent_table_df to table in RDS\r\n",
        "covid_continent_table_df.write.jdbc(url=jdbc_url, table='covid_continent_table', mode=mode, properties=config)"
      ],
      "execution_count": 81,
      "outputs": []
    }
  ]
}